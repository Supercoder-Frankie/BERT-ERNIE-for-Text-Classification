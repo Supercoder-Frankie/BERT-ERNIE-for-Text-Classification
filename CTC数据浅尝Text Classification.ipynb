{
 "cells": [
  {
   "cell_type": "code",
   "execution_count": 2,
   "metadata": {},
   "outputs": [],
   "source": [
    "import pandas as pd\n",
    "import numpy as np\n",
    "from matplotlib import pyplot as plt"
   ]
  },
  {
   "cell_type": "code",
   "execution_count": 3,
   "metadata": {},
   "outputs": [],
   "source": [
    "train_data = pd.read_json('/Users/liruizhi/Desktop/毕设数据处理/CHIP-CTC/CHIP-CTC_train.json')\n",
    "dev_data = pd.read_json('/Users/liruizhi/Desktop/毕设数据处理/CHIP-CTC/CHIP-CTC_dev.json')\n",
    "test_data = pd.read_json('/Users/liruizhi/Desktop/毕设数据处理/CHIP-CTC/CHIP-CTC_test.json')"
   ]
  },
  {
   "cell_type": "markdown",
   "metadata": {},
   "source": [
    "### 数据统计"
   ]
  },
  {
   "cell_type": "code",
   "execution_count": 3,
   "metadata": {
    "scrolled": true
   },
   "outputs": [
    {
     "data": {
      "text/html": [
       "<div>\n",
       "<style scoped>\n",
       "    .dataframe tbody tr th:only-of-type {\n",
       "        vertical-align: middle;\n",
       "    }\n",
       "\n",
       "    .dataframe tbody tr th {\n",
       "        vertical-align: top;\n",
       "    }\n",
       "\n",
       "    .dataframe thead th {\n",
       "        text-align: right;\n",
       "    }\n",
       "</style>\n",
       "<table border=\"1\" class=\"dataframe\">\n",
       "  <thead>\n",
       "    <tr style=\"text-align: right;\">\n",
       "      <th></th>\n",
       "      <th>id</th>\n",
       "      <th>label</th>\n",
       "      <th>text</th>\n",
       "    </tr>\n",
       "  </thead>\n",
       "  <tbody>\n",
       "    <tr>\n",
       "      <th>0</th>\n",
       "      <td>s1</td>\n",
       "      <td>Therapy or Surgery</td>\n",
       "      <td>研究开始前30天内，接受过其他临床方案治疗；</td>\n",
       "    </tr>\n",
       "    <tr>\n",
       "      <th>1</th>\n",
       "      <td>s2</td>\n",
       "      <td>Sign</td>\n",
       "      <td>（9）严重的听力或者视力损害</td>\n",
       "    </tr>\n",
       "    <tr>\n",
       "      <th>2</th>\n",
       "      <td>s3</td>\n",
       "      <td>Addictive Behavior</td>\n",
       "      <td>10)现在或曾经滥用药物或酗酒，或者每天饮用相当于30毫升酒精的酒精饮料。</td>\n",
       "    </tr>\n",
       "    <tr>\n",
       "      <th>3</th>\n",
       "      <td>s4</td>\n",
       "      <td>Age</td>\n",
       "      <td>4.年龄小于65岁。</td>\n",
       "    </tr>\n",
       "    <tr>\n",
       "      <th>4</th>\n",
       "      <td>s5</td>\n",
       "      <td>Disease</td>\n",
       "      <td>⑧有精神疾病患者；</td>\n",
       "    </tr>\n",
       "    <tr>\n",
       "      <th>...</th>\n",
       "      <td>...</td>\n",
       "      <td>...</td>\n",
       "      <td>...</td>\n",
       "    </tr>\n",
       "    <tr>\n",
       "      <th>22957</th>\n",
       "      <td>s22958</td>\n",
       "      <td>Sexual related</td>\n",
       "      <td>4)既往未发生过男男同性性行为，自我报告性取向为同性或双性</td>\n",
       "    </tr>\n",
       "    <tr>\n",
       "      <th>22958</th>\n",
       "      <td>s22959</td>\n",
       "      <td>Sexual related</td>\n",
       "      <td>5.普通人群志愿者或处HIV感染高危状态的男男同性恋者，即最近6个月与同性发生过口交或肛交性...</td>\n",
       "    </tr>\n",
       "    <tr>\n",
       "      <th>22959</th>\n",
       "      <td>s22960</td>\n",
       "      <td>Sexual related</td>\n",
       "      <td>?现在和过去一年内未与非固定性伴发生无安全套的性交</td>\n",
       "    </tr>\n",
       "    <tr>\n",
       "      <th>22960</th>\n",
       "      <td>s22961</td>\n",
       "      <td>Sexual related</td>\n",
       "      <td>（5）试验前一月至少有一个及以上的同性伴侣；</td>\n",
       "    </tr>\n",
       "    <tr>\n",
       "      <th>22961</th>\n",
       "      <td>s22962</td>\n",
       "      <td>Sexual related</td>\n",
       "      <td>男男同性行为</td>\n",
       "    </tr>\n",
       "  </tbody>\n",
       "</table>\n",
       "<p>22962 rows × 3 columns</p>\n",
       "</div>"
      ],
      "text/plain": [
       "           id               label  \\\n",
       "0          s1  Therapy or Surgery   \n",
       "1          s2                Sign   \n",
       "2          s3  Addictive Behavior   \n",
       "3          s4                 Age   \n",
       "4          s5             Disease   \n",
       "...       ...                 ...   \n",
       "22957  s22958      Sexual related   \n",
       "22958  s22959      Sexual related   \n",
       "22959  s22960      Sexual related   \n",
       "22960  s22961      Sexual related   \n",
       "22961  s22962      Sexual related   \n",
       "\n",
       "                                                    text  \n",
       "0                                 研究开始前30天内，接受过其他临床方案治疗；  \n",
       "1                                         （9）严重的听力或者视力损害  \n",
       "2                  10)现在或曾经滥用药物或酗酒，或者每天饮用相当于30毫升酒精的酒精饮料。  \n",
       "3                                             4.年龄小于65岁。  \n",
       "4                                              ⑧有精神疾病患者；  \n",
       "...                                                  ...  \n",
       "22957                      4)既往未发生过男男同性性行为，自我报告性取向为同性或双性  \n",
       "22958  5.普通人群志愿者或处HIV感染高危状态的男男同性恋者，即最近6个月与同性发生过口交或肛交性...  \n",
       "22959                          ?现在和过去一年内未与非固定性伴发生无安全套的性交  \n",
       "22960                             （5）试验前一月至少有一个及以上的同性伴侣；  \n",
       "22961                                             男男同性行为  \n",
       "\n",
       "[22962 rows x 3 columns]"
      ]
     },
     "execution_count": 3,
     "metadata": {},
     "output_type": "execute_result"
    }
   ],
   "source": [
    "train_data"
   ]
  },
  {
   "cell_type": "code",
   "execution_count": 4,
   "metadata": {},
   "outputs": [
    {
     "data": {
      "text/html": [
       "<div>\n",
       "<style scoped>\n",
       "    .dataframe tbody tr th:only-of-type {\n",
       "        vertical-align: middle;\n",
       "    }\n",
       "\n",
       "    .dataframe tbody tr th {\n",
       "        vertical-align: top;\n",
       "    }\n",
       "\n",
       "    .dataframe thead th {\n",
       "        text-align: right;\n",
       "    }\n",
       "</style>\n",
       "<table border=\"1\" class=\"dataframe\">\n",
       "  <thead>\n",
       "    <tr style=\"text-align: right;\">\n",
       "      <th></th>\n",
       "      <th>id</th>\n",
       "      <th>label</th>\n",
       "      <th>text</th>\n",
       "    </tr>\n",
       "  </thead>\n",
       "  <tbody>\n",
       "    <tr>\n",
       "      <th>0</th>\n",
       "      <td>s1</td>\n",
       "      <td>Disease</td>\n",
       "      <td>4）既往患有骨髓增生异常综合征（Myelodysplastic syndrome，MDS）...</td>\n",
       "    </tr>\n",
       "    <tr>\n",
       "      <th>1</th>\n",
       "      <td>s2</td>\n",
       "      <td>Disease</td>\n",
       "      <td>2.严重不可控制的感染；</td>\n",
       "    </tr>\n",
       "    <tr>\n",
       "      <th>2</th>\n",
       "      <td>s3</td>\n",
       "      <td>Consent</td>\n",
       "      <td>2、自主意愿参与问卷调查</td>\n",
       "    </tr>\n",
       "    <tr>\n",
       "      <th>3</th>\n",
       "      <td>s4</td>\n",
       "      <td>Oral related</td>\n",
       "      <td>(1)前牙结构发育不良：釉质发育不全、氟斑牙、四环素牙等；</td>\n",
       "    </tr>\n",
       "    <tr>\n",
       "      <th>4</th>\n",
       "      <td>s5</td>\n",
       "      <td>Disease</td>\n",
       "      <td>（2）确诊存在胃肠道器质性病变者，如炎症性肠病；</td>\n",
       "    </tr>\n",
       "    <tr>\n",
       "      <th>...</th>\n",
       "      <td>...</td>\n",
       "      <td>...</td>\n",
       "      <td>...</td>\n",
       "    </tr>\n",
       "    <tr>\n",
       "      <th>7677</th>\n",
       "      <td>s7678</td>\n",
       "      <td>Sexual related</td>\n",
       "      <td>在治疗及随访期间停止性交</td>\n",
       "    </tr>\n",
       "    <tr>\n",
       "      <th>7678</th>\n",
       "      <td>s7679</td>\n",
       "      <td>Sexual related</td>\n",
       "      <td>发生过男男同性性行为</td>\n",
       "    </tr>\n",
       "    <tr>\n",
       "      <th>7679</th>\n",
       "      <td>s7680</td>\n",
       "      <td>Sexual related</td>\n",
       "      <td>同性行为（包括：手淫、口交、肛交）</td>\n",
       "    </tr>\n",
       "    <tr>\n",
       "      <th>7680</th>\n",
       "      <td>s7681</td>\n",
       "      <td>Sexual related</td>\n",
       "      <td>严重的性交困难</td>\n",
       "    </tr>\n",
       "    <tr>\n",
       "      <th>7681</th>\n",
       "      <td>s7682</td>\n",
       "      <td>Sexual related</td>\n",
       "      <td>发生无安全套的性交</td>\n",
       "    </tr>\n",
       "  </tbody>\n",
       "</table>\n",
       "<p>7682 rows × 3 columns</p>\n",
       "</div>"
      ],
      "text/plain": [
       "         id           label                                               text\n",
       "0        s1         Disease   4）既往患有骨髓增生异常综合征（Myelodysplastic syndrome，MDS）...\n",
       "1        s2         Disease                                       2.严重不可控制的感染；\n",
       "2        s3         Consent                                       2、自主意愿参与问卷调查\n",
       "3        s4    Oral related                      (1)前牙结构发育不良：釉质发育不全、氟斑牙、四环素牙等；\n",
       "4        s5         Disease                           （2）确诊存在胃肠道器质性病变者，如炎症性肠病；\n",
       "...     ...             ...                                                ...\n",
       "7677  s7678  Sexual related                                       在治疗及随访期间停止性交\n",
       "7678  s7679  Sexual related                                         发生过男男同性性行为\n",
       "7679  s7680  Sexual related                                  同性行为（包括：手淫、口交、肛交）\n",
       "7680  s7681  Sexual related                                            严重的性交困难\n",
       "7681  s7682  Sexual related                                          发生无安全套的性交\n",
       "\n",
       "[7682 rows x 3 columns]"
      ]
     },
     "execution_count": 4,
     "metadata": {},
     "output_type": "execute_result"
    }
   ],
   "source": [
    "dev_data"
   ]
  },
  {
   "cell_type": "code",
   "execution_count": 4,
   "metadata": {},
   "outputs": [
    {
     "data": {
      "text/plain": [
       "Disease                             5127\n",
       "Multiple                            4556\n",
       "Therapy or Surgery                  1504\n",
       "Consent                             1319\n",
       "Diagnostic                          1233\n",
       "Laboratory Examinations             1142\n",
       "Pregnancy-related Activity          1026\n",
       "Age                                  917\n",
       "Pharmaceutical Substance or Drug     877\n",
       "Risk Assessment                      708\n",
       "Allergy Intolerance                  668\n",
       "Enrollment in other studies          514\n",
       "Researcher Decision                  464\n",
       "Compliance with Protocol             370\n",
       "Organ or Tissue Status               358\n",
       "Sign                                 286\n",
       "Addictive Behavior                   272\n",
       "Capacity                             168\n",
       "Life Expectancy                      166\n",
       "Symptom                              154\n",
       "Neoplasm Status                      131\n",
       "Device                               129\n",
       "Special Patient Characteristic       104\n",
       "Non-Neoplasm Disease Stage           103\n",
       "Data Accessible                       71\n",
       "Encounter                             66\n",
       "Diet                                  61\n",
       "Smoking Status                        54\n",
       "Literacy                              52\n",
       "Oral related                          51\n",
       "Healthy                               39\n",
       "Blood Donation                        31\n",
       "Address                               31\n",
       "Gender                                30\n",
       "Receptor Status                       28\n",
       "Nursing                               22\n",
       "Exercise                              21\n",
       "Education                             19\n",
       "Sexual related                        17\n",
       "Disabilities                          17\n",
       "Alcohol Consumer                      17\n",
       "Bedtime                               14\n",
       "Ethnicity                             13\n",
       "Ethical Audit                         12\n",
       "Name: label, dtype: int64"
      ]
     },
     "execution_count": 4,
     "metadata": {},
     "output_type": "execute_result"
    }
   ],
   "source": [
    "train_data['label'].value_counts()"
   ]
  },
  {
   "cell_type": "code",
   "execution_count": 16,
   "metadata": {},
   "outputs": [],
   "source": [
    "plt_df = dev_data['label'].value_counts()"
   ]
  },
  {
   "cell_type": "code",
   "execution_count": 29,
   "metadata": {},
   "outputs": [
    {
     "data": {
      "image/png": "[encoded data removed]",
      "text/plain": [
       "<Figure size 1296x720 with 1 Axes>"
      ]
     },
     "metadata": {
      "needs_background": "light"
     },
     "output_type": "display_data"
    }
   ],
   "source": [
    "def addlabels(x,y):\n",
    "    for i in range(len(x)):\n",
    "        plt.text(i,y[i],y[i],ha = 'center')\n",
    "        \n",
    "plt.xlabel('Specific Category')\n",
    "plt.ylabel('Frequency')\n",
    "plt.title('Train Dataset Category Statistics')        \n",
    "plt.rcParams['figure.figsize'] = (20,10)\n",
    "plt.xticks(rotation=90)\n",
    "plt.bar(plt_df.index,plt_df.values)\n",
    "addlabels(plt_df.index,plt_df.values)"
   ]
  },
  {
   "cell_type": "code",
   "execution_count": 6,
   "metadata": {
    "scrolled": false
   },
   "outputs": [
    {
     "data": {
      "text/plain": [
       "count    22962.000000\n",
       "mean        27.145022\n",
       "std         20.994304\n",
       "min          3.000000\n",
       "25%         15.000000\n",
       "50%         21.000000\n",
       "75%         32.000000\n",
       "max        342.000000\n",
       "Name: text, dtype: float64"
      ]
     },
     "execution_count": 6,
     "metadata": {},
     "output_type": "execute_result"
    }
   ],
   "source": [
    "train_data['text'].map(len).describe()"
   ]
  },
  {
   "cell_type": "code",
   "execution_count": 3,
   "metadata": {
    "scrolled": false
   },
   "outputs": [
    {
     "data": {
      "text/plain": [
       "342.0"
      ]
     },
     "execution_count": 3,
     "metadata": {},
     "output_type": "execute_result"
    }
   ],
   "source": [
    "np.percentile(train_data['text'].map(len), 100)"
   ]
  },
  {
   "cell_type": "markdown",
   "metadata": {},
   "source": [
    "### 数据清洗"
   ]
  },
  {
   "cell_type": "code",
   "execution_count": 5,
   "metadata": {},
   "outputs": [],
   "source": [
    "clean_list1 = ['(',')','（', '）','●','①','②','③','④','⑤','⑥','⑦','⑧','⑨','⑩','?','？','⑴','⑵','⑶','⑷','⑸','⑹','⑺','⑻','⑼','⑽','⑾','⑿','⒀','⒁','⒂','⒃','⒄','⒅','⒆','⒇']\n",
    "clean_list2 = ['1','2','3','4','5','6','7','8','9','0',';','；','.','。',' ',',','，','、','-','—','．','i','ii','iii','iv','a','b','c','d','e','f','g','h']\n",
    "\n",
    "for a in clean_list1:\n",
    "    train_data['text'] = train_data['text'].apply(lambda x: x.replace(a,''))\n",
    "    dev_data['text'] = dev_data['text'].apply(lambda x: x.replace(a,''))\n",
    "\n",
    "for c in range(2):\n",
    "    for b in clean_list2:\n",
    "        train_data['text'] = train_data['text'].apply(lambda x: x.strip(b))\n",
    "        dev_data['text'] = dev_data['text'].apply(lambda x: x.strip(b))"
   ]
  },
  {
   "cell_type": "code",
   "execution_count": 6,
   "metadata": {
    "scrolled": false
   },
   "outputs": [
    {
     "data": {
      "text/html": [
       "<div>\n",
       "<style scoped>\n",
       "    .dataframe tbody tr th:only-of-type {\n",
       "        vertical-align: middle;\n",
       "    }\n",
       "\n",
       "    .dataframe tbody tr th {\n",
       "        vertical-align: top;\n",
       "    }\n",
       "\n",
       "    .dataframe thead th {\n",
       "        text-align: right;\n",
       "    }\n",
       "</style>\n",
       "<table border=\"1\" class=\"dataframe\">\n",
       "  <thead>\n",
       "    <tr style=\"text-align: right;\">\n",
       "      <th></th>\n",
       "      <th>id</th>\n",
       "      <th>label</th>\n",
       "      <th>text</th>\n",
       "    </tr>\n",
       "  </thead>\n",
       "  <tbody>\n",
       "    <tr>\n",
       "      <th>0</th>\n",
       "      <td>s1</td>\n",
       "      <td>Disease</td>\n",
       "      <td>既往患有骨髓增生异常综合征Myelodysplastic syndrome，MDS的患者，或...</td>\n",
       "    </tr>\n",
       "    <tr>\n",
       "      <th>1</th>\n",
       "      <td>s2</td>\n",
       "      <td>Disease</td>\n",
       "      <td>严重不可控制的感染</td>\n",
       "    </tr>\n",
       "    <tr>\n",
       "      <th>2</th>\n",
       "      <td>s3</td>\n",
       "      <td>Consent</td>\n",
       "      <td>自主意愿参与问卷调查</td>\n",
       "    </tr>\n",
       "    <tr>\n",
       "      <th>3</th>\n",
       "      <td>s4</td>\n",
       "      <td>Oral related</td>\n",
       "      <td>前牙结构发育不良：釉质发育不全、氟斑牙、四环素牙等</td>\n",
       "    </tr>\n",
       "    <tr>\n",
       "      <th>4</th>\n",
       "      <td>s5</td>\n",
       "      <td>Disease</td>\n",
       "      <td>确诊存在胃肠道器质性病变者，如炎症性肠病</td>\n",
       "    </tr>\n",
       "    <tr>\n",
       "      <th>...</th>\n",
       "      <td>...</td>\n",
       "      <td>...</td>\n",
       "      <td>...</td>\n",
       "    </tr>\n",
       "    <tr>\n",
       "      <th>7677</th>\n",
       "      <td>s7678</td>\n",
       "      <td>Sexual related</td>\n",
       "      <td>在治疗及随访期间停止性交</td>\n",
       "    </tr>\n",
       "    <tr>\n",
       "      <th>7678</th>\n",
       "      <td>s7679</td>\n",
       "      <td>Sexual related</td>\n",
       "      <td>发生过男男同性性行为</td>\n",
       "    </tr>\n",
       "    <tr>\n",
       "      <th>7679</th>\n",
       "      <td>s7680</td>\n",
       "      <td>Sexual related</td>\n",
       "      <td>同性行为包括：手淫、口交、肛交</td>\n",
       "    </tr>\n",
       "    <tr>\n",
       "      <th>7680</th>\n",
       "      <td>s7681</td>\n",
       "      <td>Sexual related</td>\n",
       "      <td>严重的性交困难</td>\n",
       "    </tr>\n",
       "    <tr>\n",
       "      <th>7681</th>\n",
       "      <td>s7682</td>\n",
       "      <td>Sexual related</td>\n",
       "      <td>发生无安全套的性交</td>\n",
       "    </tr>\n",
       "  </tbody>\n",
       "</table>\n",
       "<p>7682 rows × 3 columns</p>\n",
       "</div>"
      ],
      "text/plain": [
       "         id           label                                               text\n",
       "0        s1         Disease  既往患有骨髓增生异常综合征Myelodysplastic syndrome，MDS的患者，或...\n",
       "1        s2         Disease                                          严重不可控制的感染\n",
       "2        s3         Consent                                         自主意愿参与问卷调查\n",
       "3        s4    Oral related                          前牙结构发育不良：釉质发育不全、氟斑牙、四环素牙等\n",
       "4        s5         Disease                               确诊存在胃肠道器质性病变者，如炎症性肠病\n",
       "...     ...             ...                                                ...\n",
       "7677  s7678  Sexual related                                       在治疗及随访期间停止性交\n",
       "7678  s7679  Sexual related                                         发生过男男同性性行为\n",
       "7679  s7680  Sexual related                                    同性行为包括：手淫、口交、肛交\n",
       "7680  s7681  Sexual related                                            严重的性交困难\n",
       "7681  s7682  Sexual related                                          发生无安全套的性交\n",
       "\n",
       "[7682 rows x 3 columns]"
      ]
     },
     "execution_count": 6,
     "metadata": {},
     "output_type": "execute_result"
    }
   ],
   "source": [
    "dev_data"
   ]
  },
  {
   "cell_type": "markdown",
   "metadata": {},
   "source": [
    "### 删除长度大于128的数据"
   ]
  },
  {
   "cell_type": "code",
   "execution_count": 7,
   "metadata": {},
   "outputs": [],
   "source": [
    "train_data = train_data.drop(train_data[train_data['text'].map(len) > 128].index).reset_index(drop=True)\n",
    "dev_data = dev_data.drop(dev_data[dev_data['text'].map(len) > 128].index).reset_index(drop=True)"
   ]
  },
  {
   "cell_type": "code",
   "execution_count": 7,
   "metadata": {},
   "outputs": [
    {
     "data": {
      "text/html": [
       "<div>\n",
       "<style scoped>\n",
       "    .dataframe tbody tr th:only-of-type {\n",
       "        vertical-align: middle;\n",
       "    }\n",
       "\n",
       "    .dataframe tbody tr th {\n",
       "        vertical-align: top;\n",
       "    }\n",
       "\n",
       "    .dataframe thead th {\n",
       "        text-align: right;\n",
       "    }\n",
       "</style>\n",
       "<table border=\"1\" class=\"dataframe\">\n",
       "  <thead>\n",
       "    <tr style=\"text-align: right;\">\n",
       "      <th></th>\n",
       "      <th>id</th>\n",
       "      <th>label</th>\n",
       "      <th>text</th>\n",
       "    </tr>\n",
       "  </thead>\n",
       "  <tbody>\n",
       "    <tr>\n",
       "      <th>0</th>\n",
       "      <td>s1</td>\n",
       "      <td>Therapy or Surgery</td>\n",
       "      <td>研究开始前30天内，接受过其他临床方案治疗</td>\n",
       "    </tr>\n",
       "    <tr>\n",
       "      <th>1</th>\n",
       "      <td>s2</td>\n",
       "      <td>Sign</td>\n",
       "      <td>严重的听力或者视力损害</td>\n",
       "    </tr>\n",
       "    <tr>\n",
       "      <th>2</th>\n",
       "      <td>s3</td>\n",
       "      <td>Addictive Behavior</td>\n",
       "      <td>现在或曾经滥用药物或酗酒，或者每天饮用相当于30毫升酒精的酒精饮料</td>\n",
       "    </tr>\n",
       "    <tr>\n",
       "      <th>3</th>\n",
       "      <td>s4</td>\n",
       "      <td>Age</td>\n",
       "      <td>年龄小于65岁</td>\n",
       "    </tr>\n",
       "    <tr>\n",
       "      <th>4</th>\n",
       "      <td>s5</td>\n",
       "      <td>Disease</td>\n",
       "      <td>有精神疾病患者</td>\n",
       "    </tr>\n",
       "    <tr>\n",
       "      <th>...</th>\n",
       "      <td>...</td>\n",
       "      <td>...</td>\n",
       "      <td>...</td>\n",
       "    </tr>\n",
       "    <tr>\n",
       "      <th>22859</th>\n",
       "      <td>s22958</td>\n",
       "      <td>Sexual related</td>\n",
       "      <td>既往未发生过男男同性性行为，自我报告性取向为同性或双性</td>\n",
       "    </tr>\n",
       "    <tr>\n",
       "      <th>22860</th>\n",
       "      <td>s22959</td>\n",
       "      <td>Sexual related</td>\n",
       "      <td>普通人群志愿者或处HIV感染高危状态的男男同性恋者，即最近6个月与同性发生过口交或肛交性行为的男性</td>\n",
       "    </tr>\n",
       "    <tr>\n",
       "      <th>22861</th>\n",
       "      <td>s22960</td>\n",
       "      <td>Sexual related</td>\n",
       "      <td>现在和过去一年内未与非固定性伴发生无安全套的性交</td>\n",
       "    </tr>\n",
       "    <tr>\n",
       "      <th>22862</th>\n",
       "      <td>s22961</td>\n",
       "      <td>Sexual related</td>\n",
       "      <td>试验前一月至少有一个及以上的同性伴侣</td>\n",
       "    </tr>\n",
       "    <tr>\n",
       "      <th>22863</th>\n",
       "      <td>s22962</td>\n",
       "      <td>Sexual related</td>\n",
       "      <td>男男同性行为</td>\n",
       "    </tr>\n",
       "  </tbody>\n",
       "</table>\n",
       "<p>22864 rows × 3 columns</p>\n",
       "</div>"
      ],
      "text/plain": [
       "           id               label  \\\n",
       "0          s1  Therapy or Surgery   \n",
       "1          s2                Sign   \n",
       "2          s3  Addictive Behavior   \n",
       "3          s4                 Age   \n",
       "4          s5             Disease   \n",
       "...       ...                 ...   \n",
       "22859  s22958      Sexual related   \n",
       "22860  s22959      Sexual related   \n",
       "22861  s22960      Sexual related   \n",
       "22862  s22961      Sexual related   \n",
       "22863  s22962      Sexual related   \n",
       "\n",
       "                                                    text  \n",
       "0                                  研究开始前30天内，接受过其他临床方案治疗  \n",
       "1                                            严重的听力或者视力损害  \n",
       "2                      现在或曾经滥用药物或酗酒，或者每天饮用相当于30毫升酒精的酒精饮料  \n",
       "3                                                年龄小于65岁  \n",
       "4                                                有精神疾病患者  \n",
       "...                                                  ...  \n",
       "22859                        既往未发生过男男同性性行为，自我报告性取向为同性或双性  \n",
       "22860  普通人群志愿者或处HIV感染高危状态的男男同性恋者，即最近6个月与同性发生过口交或肛交性行为的男性  \n",
       "22861                           现在和过去一年内未与非固定性伴发生无安全套的性交  \n",
       "22862                                 试验前一月至少有一个及以上的同性伴侣  \n",
       "22863                                             男男同性行为  \n",
       "\n",
       "[22864 rows x 3 columns]"
      ]
     },
     "execution_count": 7,
     "metadata": {},
     "output_type": "execute_result"
    }
   ],
   "source": [
    "train_data"
   ]
  },
  {
   "cell_type": "code",
   "execution_count": 8,
   "metadata": {},
   "outputs": [
    {
     "data": {
      "text/html": [
       "<div>\n",
       "<style scoped>\n",
       "    .dataframe tbody tr th:only-of-type {\n",
       "        vertical-align: middle;\n",
       "    }\n",
       "\n",
       "    .dataframe tbody tr th {\n",
       "        vertical-align: top;\n",
       "    }\n",
       "\n",
       "    .dataframe thead th {\n",
       "        text-align: right;\n",
       "    }\n",
       "</style>\n",
       "<table border=\"1\" class=\"dataframe\">\n",
       "  <thead>\n",
       "    <tr style=\"text-align: right;\">\n",
       "      <th></th>\n",
       "      <th>id</th>\n",
       "      <th>label</th>\n",
       "      <th>text</th>\n",
       "    </tr>\n",
       "  </thead>\n",
       "  <tbody>\n",
       "    <tr>\n",
       "      <th>0</th>\n",
       "      <td>s1</td>\n",
       "      <td>Disease</td>\n",
       "      <td>既往患有骨髓增生异常综合征Myelodysplastic syndrome，MDS的患者，或...</td>\n",
       "    </tr>\n",
       "    <tr>\n",
       "      <th>1</th>\n",
       "      <td>s2</td>\n",
       "      <td>Disease</td>\n",
       "      <td>严重不可控制的感染</td>\n",
       "    </tr>\n",
       "    <tr>\n",
       "      <th>2</th>\n",
       "      <td>s3</td>\n",
       "      <td>Consent</td>\n",
       "      <td>自主意愿参与问卷调查</td>\n",
       "    </tr>\n",
       "    <tr>\n",
       "      <th>3</th>\n",
       "      <td>s4</td>\n",
       "      <td>Oral related</td>\n",
       "      <td>前牙结构发育不良：釉质发育不全、氟斑牙、四环素牙等</td>\n",
       "    </tr>\n",
       "    <tr>\n",
       "      <th>4</th>\n",
       "      <td>s5</td>\n",
       "      <td>Disease</td>\n",
       "      <td>确诊存在胃肠道器质性病变者，如炎症性肠病</td>\n",
       "    </tr>\n",
       "    <tr>\n",
       "      <th>...</th>\n",
       "      <td>...</td>\n",
       "      <td>...</td>\n",
       "      <td>...</td>\n",
       "    </tr>\n",
       "    <tr>\n",
       "      <th>7642</th>\n",
       "      <td>s7678</td>\n",
       "      <td>Sexual related</td>\n",
       "      <td>在治疗及随访期间停止性交</td>\n",
       "    </tr>\n",
       "    <tr>\n",
       "      <th>7643</th>\n",
       "      <td>s7679</td>\n",
       "      <td>Sexual related</td>\n",
       "      <td>发生过男男同性性行为</td>\n",
       "    </tr>\n",
       "    <tr>\n",
       "      <th>7644</th>\n",
       "      <td>s7680</td>\n",
       "      <td>Sexual related</td>\n",
       "      <td>同性行为包括：手淫、口交、肛交</td>\n",
       "    </tr>\n",
       "    <tr>\n",
       "      <th>7645</th>\n",
       "      <td>s7681</td>\n",
       "      <td>Sexual related</td>\n",
       "      <td>严重的性交困难</td>\n",
       "    </tr>\n",
       "    <tr>\n",
       "      <th>7646</th>\n",
       "      <td>s7682</td>\n",
       "      <td>Sexual related</td>\n",
       "      <td>发生无安全套的性交</td>\n",
       "    </tr>\n",
       "  </tbody>\n",
       "</table>\n",
       "<p>7647 rows × 3 columns</p>\n",
       "</div>"
      ],
      "text/plain": [
       "         id           label                                               text\n",
       "0        s1         Disease  既往患有骨髓增生异常综合征Myelodysplastic syndrome，MDS的患者，或...\n",
       "1        s2         Disease                                          严重不可控制的感染\n",
       "2        s3         Consent                                         自主意愿参与问卷调查\n",
       "3        s4    Oral related                          前牙结构发育不良：釉质发育不全、氟斑牙、四环素牙等\n",
       "4        s5         Disease                               确诊存在胃肠道器质性病变者，如炎症性肠病\n",
       "...     ...             ...                                                ...\n",
       "7642  s7678  Sexual related                                       在治疗及随访期间停止性交\n",
       "7643  s7679  Sexual related                                         发生过男男同性性行为\n",
       "7644  s7680  Sexual related                                    同性行为包括：手淫、口交、肛交\n",
       "7645  s7681  Sexual related                                            严重的性交困难\n",
       "7646  s7682  Sexual related                                          发生无安全套的性交\n",
       "\n",
       "[7647 rows x 3 columns]"
      ]
     },
     "execution_count": 8,
     "metadata": {},
     "output_type": "execute_result"
    }
   ],
   "source": [
    "dev_data"
   ]
  },
  {
   "cell_type": "code",
   "execution_count": 8,
   "metadata": {
    "scrolled": true
   },
   "outputs": [
    {
     "data": {
      "text/html": [
       "<div>\n",
       "<style scoped>\n",
       "    .dataframe tbody tr th:only-of-type {\n",
       "        vertical-align: middle;\n",
       "    }\n",
       "\n",
       "    .dataframe tbody tr th {\n",
       "        vertical-align: top;\n",
       "    }\n",
       "\n",
       "    .dataframe thead th {\n",
       "        text-align: right;\n",
       "    }\n",
       "</style>\n",
       "<table border=\"1\" class=\"dataframe\">\n",
       "  <thead>\n",
       "    <tr style=\"text-align: right;\">\n",
       "      <th></th>\n",
       "      <th>id</th>\n",
       "      <th>label</th>\n",
       "      <th>text</th>\n",
       "    </tr>\n",
       "  </thead>\n",
       "  <tbody>\n",
       "    <tr>\n",
       "      <th>1995</th>\n",
       "      <td>s2006</td>\n",
       "      <td>Risk Assessment</td>\n",
       "      <td>根据ECOG评分标准注1，体力状况级别为0-2级</td>\n",
       "    </tr>\n",
       "  </tbody>\n",
       "</table>\n",
       "</div>"
      ],
      "text/plain": [
       "         id            label                      text\n",
       "1995  s2006  Risk Assessment  根据ECOG评分标准注1，体力状况级别为0-2级"
      ]
     },
     "execution_count": 8,
     "metadata": {},
     "output_type": "execute_result"
    }
   ],
   "source": [
    "train_data.loc[train_data['id'] == 's2006']  "
   ]
  },
  {
   "cell_type": "code",
   "execution_count": 9,
   "metadata": {},
   "outputs": [
    {
     "data": {
      "text/html": [
       "<div>\n",
       "<style scoped>\n",
       "    .dataframe tbody tr th:only-of-type {\n",
       "        vertical-align: middle;\n",
       "    }\n",
       "\n",
       "    .dataframe tbody tr th {\n",
       "        vertical-align: top;\n",
       "    }\n",
       "\n",
       "    .dataframe thead th {\n",
       "        text-align: right;\n",
       "    }\n",
       "</style>\n",
       "<table border=\"1\" class=\"dataframe\">\n",
       "  <thead>\n",
       "    <tr style=\"text-align: right;\">\n",
       "      <th></th>\n",
       "      <th>id</th>\n",
       "      <th>label</th>\n",
       "      <th>text</th>\n",
       "    </tr>\n",
       "  </thead>\n",
       "  <tbody>\n",
       "    <tr>\n",
       "      <th>1993</th>\n",
       "      <td>s2006</td>\n",
       "      <td>Diagnostic</td>\n",
       "      <td>符合急性冠脉综合征包括不稳定型心绞痛和非ST抬高型心肌梗死诊断</td>\n",
       "    </tr>\n",
       "  </tbody>\n",
       "</table>\n",
       "</div>"
      ],
      "text/plain": [
       "         id       label                             text\n",
       "1993  s2006  Diagnostic  符合急性冠脉综合征包括不稳定型心绞痛和非ST抬高型心肌梗死诊断"
      ]
     },
     "execution_count": 9,
     "metadata": {},
     "output_type": "execute_result"
    }
   ],
   "source": [
    "dev_data.loc[dev_data['id'] == 's2006']  "
   ]
  },
  {
   "cell_type": "code",
   "execution_count": 9,
   "metadata": {},
   "outputs": [],
   "source": [
    "train_data.to_csv('train_clean.csv', index=None, header=None)"
   ]
  },
  {
   "cell_type": "code",
   "execution_count": 10,
   "metadata": {},
   "outputs": [],
   "source": [
    "dev_data.to_csv('dev_clean.csv', index=None, header=None)"
   ]
  },
  {
   "cell_type": "code",
   "execution_count": null,
   "metadata": {},
   "outputs": [],
   "source": []
  }
 ],
 "metadata": {
  "kernelspec": {
   "display_name": "Python 3",
   "language": "python",
   "name": "python3"
  },
  "language_info": {
   "codemirror_mode": {
    "name": "ipython",
    "version": 3
   },
   "file_extension": ".py",
   "mimetype": "text/x-python",
   "name": "python",
   "nbconvert_exporter": "python",
   "pygments_lexer": "ipython3",
   "version": "3.8.5"
  },
  "toc": {
   "base_numbering": 1,
   "nav_menu": {},
   "number_sections": true,
   "sideBar": true,
   "skip_h1_title": false,
   "title_cell": "Table of Contents",
   "title_sidebar": "Contents",
   "toc_cell": false,
   "toc_position": {},
   "toc_section_display": true,
   "toc_window_display": false
  },
  "varInspector": {
   "cols": {
    "lenName": 16,
    "lenType": 16,
    "lenVar": 40
   },
   "kernels_config": {
    "python": {
     "delete_cmd_postfix": "",
     "delete_cmd_prefix": "del ",
     "library": "var_list.py",
     "varRefreshCmd": "print(var_dic_list())"
    },
    "r": {
     "delete_cmd_postfix": ") ",
     "delete_cmd_prefix": "rm(",
     "library": "var_list.r",
     "varRefreshCmd": "cat(var_dic_list()) "
    }
   },
   "types_to_exclude": [
    "module",
    "function",
    "builtin_function_or_method",
    "instance",
    "_Feature"
   ],
   "window_display": false
  }
 },
 "nbformat": 4,
 "nbformat_minor": 4
}
